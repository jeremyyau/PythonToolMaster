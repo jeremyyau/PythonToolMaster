{
  "nbformat": 4,
  "nbformat_minor": 0,
  "metadata": {
    "colab": {
      "provenance": []
    },
    "kernelspec": {
      "name": "python3",
      "display_name": "Python 3"
    },
    "language_info": {
      "name": "python"
    }
  },
  "cells": [
    {
      "cell_type": "code",
      "source": [
        "from random import *\n",
        "from datetime import *"
      ],
      "metadata": {
        "id": "x1I6VqwlTR7h"
      },
      "execution_count": null,
      "outputs": []
    },
    {
      "cell_type": "code",
      "source": [
        "#@title\n",
        "result_num = 3 #@param {type:\"integer\"}\n",
        "start_date = \"2023-02-10\" #@param {type:\"date\"}\n",
        "start_time = \"12:00\" #@param {type:\"string\"}\n",
        "start_timetype = \"AM\" #@param [\"AM\", \"PM\"]\n",
        "end_date = \"2023-02-11\" #@param {type:\"date\"}\n",
        "end_time = \"11:59\" #@param {type:\"string\"}\n",
        "end_timetype = \"PM\" #@param [\"AM\", \"PM\"]\n",
        "date_format = \"YYYY-MM-DD\" #@param [\"YYYY-MM-DD\", \"DD/MM/YYYY\", \"MM/DD/YYYY\"]\n",
        "display_date = True #@param {type:\"boolean\"}\n",
        "display_time = True #@param {type:\"boolean\"}\n",
        "format = \"\"\n",
        "\n",
        "def random_date(start, end):\n",
        "  delta = end - start\n",
        "  int_delta = (delta.days * 24 * 60 * 60) + delta.seconds\n",
        "  random_second = randrange(int_delta)\n",
        "  return start + timedelta(seconds=random_second)\n",
        "\n",
        "d1 = datetime.strptime(start_date+\" \"+start_time+\" \"+start_timetype, '%Y-%m-%d %I:%M %p')\n",
        "d2 = datetime.strptime(end_date+\" \"+end_time+\" \"+end_timetype, '%Y-%m-%d %I:%M %p')\n",
        "if display_date == True:\n",
        "  if date_format == \"YYYY-MM-DD\":\n",
        "    format+='%Y-%m-%d '\n",
        "  elif date_format == \"DD/MM/YYYY\":\n",
        "    format += '%d/%m/%Y '\n",
        "  elif date_format == \"MM/DD/YYYY\":\n",
        "    format += '%m/%d/%Y '\n",
        "if display_time == True:\n",
        "  format += \"%I:%M %p\"\n",
        "\n",
        "for i in range(result_num):\n",
        "  print(random_date(d1, d2).strftime(format))"
      ],
      "metadata": {
        "id": "wdJy5bTNR3lr",
        "colab": {
          "base_uri": "https://localhost:8080/"
        },
        "outputId": "0bdc1ee9-d3e9-4dd9-fdfa-58d1fcb36e93"
      },
      "execution_count": null,
      "outputs": [
        {
          "output_type": "stream",
          "name": "stdout",
          "text": [
            "2023-02-11 11:18 AM\n",
            "2023-02-10 07:20 AM\n",
            "2023-02-11 05:30 PM\n"
          ]
        }
      ]
    }
  ]
}