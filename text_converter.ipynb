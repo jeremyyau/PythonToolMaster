{
  "nbformat": 4,
  "nbformat_minor": 0,
  "metadata": {
    "colab": {
      "provenance": []
    },
    "kernelspec": {
      "name": "python3",
      "display_name": "Python 3"
    },
    "language_info": {
      "name": "python"
    }
  },
  "cells": [
    {
      "cell_type": "code",
      "execution_count": null,
      "metadata": {
        "id": "yCRpKbOiMia-"
      },
      "outputs": [],
      "source": [
        "#@title 大小寫轉換器\n",
        "text = \"\" #@param {type:\"string\"}\n",
        "result_type = \"upper\" #@param [\"lower\", \"upper\"]\n",
        "if result_type == \"lower\":\n",
        "  result = text.lower()\n",
        "elif result_type == \"upper\":\n",
        "  result = text.upper()\n",
        "print(result)"
      ]
    },
    {
      "cell_type": "code",
      "execution_count": null,
      "metadata": {
        "id": "H8q1j-g2ddRS",
        "colab": {
          "base_uri": "https://localhost:8080/"
        },
        "outputId": "c7badab8-1e0c-4f35-9321-bc7b72a89134"
      },
      "outputs": [
        {
          "output_type": "stream",
          "name": "stdout",
          "text": [
            "['t', 'e', 's', ' ', 't']\n"
          ]
        }
      ],
      "source": [
        "#@title 以字元分開\n",
        "text = \"\" #@param {type:\"string\"}\n",
        "include_space = True #@param {type:\"boolean\"}\n",
        "result = []\n",
        "for i in range(len(text)):\n",
        "  if include_space == True or text[i] != ' ':\n",
        "    result += text[i]\n",
        "print(result)"
      ]
    },
    {
      "cell_type": "code",
      "execution_count": null,
      "metadata": {
        "id": "SxCnUEztsykg",
        "colab": {
          "base_uri": "https://localhost:8080/"
        },
        "outputId": "8cd0213e-c9e9-4fb7-ad42-52906a33d837"
      },
      "outputs": [
        {
          "output_type": "stream",
          "name": "stdout",
          "text": [
            "['隨時', '戰鬥', '選單', '不能使用']\n"
          ]
        }
      ],
      "source": [
        "#@title 以單字分開\n",
        "text = \"\\u96A8\\u6642,\\u6230\\u9B25,\\u9078\\u55AE,\\u4E0D\\u80FD\\u4F7F\\u7528\" #@param {type:\"string\"}\n",
        "splitter = \",\" #@param {type:\"string\"}\n",
        "if splitter == \"\":\n",
        "  result = text.split()\n",
        "else:\n",
        "  result = text.split(splitter)\n",
        "print(result)"
      ]
    },
    {
      "cell_type": "code",
      "execution_count": null,
      "metadata": {
        "colab": {
          "base_uri": "https://localhost:8080/"
        },
        "outputId": "8cc64c77-6ab4-41dd-cfe1-e0a5cddb91dd",
        "id": "Pu8YscLevH-V"
      },
      "outputs": [
        {
          "output_type": "stream",
          "name": "stdout",
          "text": [
            "人個一是我\n"
          ]
        }
      ],
      "source": [
        "#@title 文字倒轉\n",
        "text = \"\" #@param {type:\"string\"}\n",
        "print(text[::-1])"
      ]
    },
    {
      "cell_type": "code",
      "source": [
        "#@title 文字排序\n",
        "text = \"\" #@param {type:\"string\"}\n",
        "include_space = True #@param {type:\"boolean\"}\n",
        "result = []\n",
        "for i in range(len(text)):\n",
        "  if include_space == True or text[i] != ' ':\n",
        "    result += text[i]\n",
        "result.sort()\n",
        "print(result)"
      ],
      "metadata": {
        "colab": {
          "base_uri": "https://localhost:8080/"
        },
        "id": "8r6UKK3uHSNe",
        "outputId": "8c9e64ab-0ea3-4b19-9d3d-e1c233775e36"
      },
      "execution_count": null,
      "outputs": [
        {
          "output_type": "stream",
          "name": "stdout",
          "text": [
            "['你', '我', '是']\n"
          ]
        }
      ]
    }
  ]
}