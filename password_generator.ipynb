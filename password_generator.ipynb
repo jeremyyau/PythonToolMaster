{
  "nbformat": 4,
  "nbformat_minor": 0,
  "metadata": {
    "colab": {
      "provenance": []
    },
    "kernelspec": {
      "name": "python3",
      "display_name": "Python 3"
    },
    "language_info": {
      "name": "python"
    }
  },
  "cells": [
    {
      "cell_type": "code",
      "execution_count": null,
      "metadata": {
        "colab": {
          "base_uri": "https://localhost:8080/"
        },
        "id": "StDGXHx0LVra",
        "outputId": "0175c7b7-4b37-4ed2-b5cd-28d8196771c9"
      },
      "outputs": [
        {
          "output_type": "stream",
          "name": "stdout",
          "text": [
            "dZ0gEo3kiG\n"
          ]
        }
      ],
      "source": [
        "#@title  { form-width: \"30%\" }\n",
        "length = 10 #@param {type:\"integer\"}\n",
        "lower_case = True #@param {type:\"boolean\"}\n",
        "upper_case = True #@param {type:\"boolean\"}\n",
        "number = True #@param {type:\"boolean\"}\n",
        "special1 = False #@param {type:\"boolean\"}\n",
        "special2 = False #@param {type:\"boolean\"}\n",
        "special3 = False #@param {type:\"boolean\"}\n",
        "import random\n",
        "\n",
        "lower = ['a', 'b', 'c', 'd', 'e', 'f', 'g', 'h', 'i', 'j', 'k', 'l', 'm', 'n', 'o', 'p', 'q', 'r', 's', 't', 'u', 'v', 'w', 'x', 'y', 'z']\n",
        "upper = ['A', 'B', 'C', 'D', 'E', 'F', 'G', 'H', 'I', 'J', 'K', 'L', 'M', 'N', 'O', 'P', 'Q', 'R', 'S', 'T', 'U', 'V', 'W', 'X', 'Y', 'Z']\n",
        "nums = ['0', '1', '2', '3', '4', '5', '6', '7', '8', '9']\n",
        "special_chr1 = ['!', '@', '#', '$', '%', '^', '&', '*', '(', ')']\n",
        "special_chr2 = ['_', '+', '-', '=', '~', ',', '.', '<', '>', '?', ':', ';']\n",
        "special_chr3 = ['`', \"'\", '\"', '|', '\\\\', '/', '{', '}', '[', ']']\n",
        "allow_chr = []\n",
        "result = \"\"\n",
        "\n",
        "if lower_case == True:\n",
        "  allow_chr = allow_chr + lower\n",
        "if upper_case == True:\n",
        "  allow_chr = allow_chr + upper\n",
        "if number == True:\n",
        "  allow_chr = allow_chr + nums\n",
        "if special1 == True:\n",
        "  allow_chr = allow_chr + special_chr1\n",
        "if special2 == True:\n",
        "  allow_chr = allow_chr + special_chr2\n",
        "if special3 == True:\n",
        "  allow_chr = allow_chr + special_chr3\n",
        "\n",
        "for i in range(length):\n",
        "  result += random.choice(allow_chr)\n",
        "\n",
        "print(result)"
      ]
    }
  ]
}