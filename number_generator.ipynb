{
  "nbformat": 4,
  "nbformat_minor": 0,
  "metadata": {
    "colab": {
      "provenance": [],
      "toc_visible": true
    },
    "kernelspec": {
      "name": "python3",
      "display_name": "Python 3"
    },
    "language_info": {
      "name": "python"
    }
  },
  "cells": [
    {
      "cell_type": "code",
      "execution_count": null,
      "metadata": {
        "colab": {
          "base_uri": "https://localhost:8080/"
        },
        "id": "CihesJlqNb3_",
        "outputId": "8386a79c-da4d-4f45-80c2-d1a63f71c737"
      },
      "outputs": [
        {
          "output_type": "stream",
          "name": "stdout",
          "text": [
            "[0, 1, 2, 3, 4, 5, 6, 7, 8, 9, 10, 11, 12, 13, 14, 15, 16, 17, 18, 19]\n"
          ]
        }
      ],
      "source": [
        "#@title int\n",
        "start = 0 #@param {type:\"integer\"}\n",
        "end = 20 #@param {type:\"integer\"}\n",
        "result = list(range(start,end))\n",
        "print(result)"
      ]
    },
    {
      "cell_type": "code",
      "execution_count": null,
      "metadata": {
        "colab": {
          "base_uri": "https://localhost:8080/"
        },
        "outputId": "63ad833a-7302-409c-abe8-484a63b36b2e",
        "id": "FuSXb3_LKv4l"
      },
      "outputs": [
        {
          "output_type": "stream",
          "name": "stdout",
          "text": [
            "['10', '11', '12', '13', '14', '15', '16', '17', '18', '19']\n"
          ]
        }
      ],
      "source": [
        "#@title String\n",
        "start = 0 #@param {type:\"integer\"}\n",
        "end = 20 #@param {type:\"integer\"}\n",
        "result = []\n",
        "for i in range(start,end):\n",
        "  result += [str(i)]\n",
        "print(result)"
      ]
    },
    {
      "cell_type": "code",
      "source": [
        "#@title 隨機數產生器\n",
        "import random\n",
        "start = 0 #@param {type:\"integer\"}\n",
        "end = 20 #@param {type:\"integer\"}\n",
        "result_num = 20 #@param {type:\"integer\"}\n",
        "result = [random.randint(start,end) for _ in range(result_num)]\n",
        "print(result)"
      ],
      "metadata": {
        "colab": {
          "base_uri": "https://localhost:8080/"
        },
        "id": "DKF-7N-dvjte",
        "outputId": "4022a87f-d2a4-4ca1-b958-4222e69b9e3e"
      },
      "execution_count": null,
      "outputs": [
        {
          "output_type": "stream",
          "name": "stdout",
          "text": [
            "20\n"
          ]
        }
      ]
    },
    {
      "cell_type": "code",
      "source": [
        "#@title 費波那契數\n",
        "length = 10 #@param {type:\"integer\"}\n",
        "start_with_zero = True #@param {type:\"boolean\"}\n",
        "if start_with_zero == True:\n",
        "  a = 0\n",
        "else:\n",
        "  a = 1\n",
        "b = 1\n",
        "result = [a, b]\n",
        "for i in range(length-2):\n",
        "  a,b = b,a+b\n",
        "  result += [a]\n",
        "print(result)"
      ],
      "metadata": {
        "colab": {
          "base_uri": "https://localhost:8080/"
        },
        "id": "kD2aGhgNl9Nx",
        "outputId": "0ce005bc-2eef-408e-b373-ee17d78edf75"
      },
      "execution_count": null,
      "outputs": [
        {
          "output_type": "stream",
          "name": "stdout",
          "text": [
            "[0, 1, 1, 1, 2, 3, 5, 8, 13, 21]\n"
          ]
        }
      ]
    },
    {
      "cell_type": "code",
      "source": [
        "#@title 平均數\n",
        "nums = [0, 1, 2, 3]\n",
        "sum = 0\n",
        "for i in nums:\n",
        "  sum += nums[i]\n",
        "print(sum/len(nums))"
      ],
      "metadata": {
        "id": "UhgizjfzgUbE"
      },
      "execution_count": null,
      "outputs": []
    }
  ]
}